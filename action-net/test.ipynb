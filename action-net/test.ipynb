{
 "cells": [
  {
   "cell_type": "code",
   "execution_count": 1,
   "metadata": {},
   "outputs": [],
   "source": [
    "import pandas as pd\n",
    "import numpy as np\n",
    "annotations = pd.read_pickle('ActionNet_train.pkl')\n",
    "BASE_DIR = \"../../action_net/EMG/\"\n"
   ]
  },
  {
   "cell_type": "code",
   "execution_count": 2,
   "metadata": {},
   "outputs": [
    {
     "data": {
      "text/html": [
       "<div>\n",
       "<style scoped>\n",
       "    .dataframe tbody tr th:only-of-type {\n",
       "        vertical-align: middle;\n",
       "    }\n",
       "\n",
       "    .dataframe tbody tr th {\n",
       "        vertical-align: top;\n",
       "    }\n",
       "\n",
       "    .dataframe thead th {\n",
       "        text-align: right;\n",
       "    }\n",
       "</style>\n",
       "<table border=\"1\" class=\"dataframe\">\n",
       "  <thead>\n",
       "    <tr style=\"text-align: right;\">\n",
       "      <th></th>\n",
       "      <th>index</th>\n",
       "      <th>file</th>\n",
       "      <th>description</th>\n",
       "      <th>labels</th>\n",
       "    </tr>\n",
       "  </thead>\n",
       "  <tbody>\n",
       "    <tr>\n",
       "      <th>40</th>\n",
       "      <td>40</td>\n",
       "      <td>S08_1.pkl</td>\n",
       "      <td>Spread jelly on a bread slice</td>\n",
       "      <td>Spread</td>\n",
       "    </tr>\n",
       "    <tr>\n",
       "      <th>10</th>\n",
       "      <td>10</td>\n",
       "      <td>S04_1.pkl</td>\n",
       "      <td>Get/replace items from refrigerator/cabinets/d...</td>\n",
       "      <td>Get/Put</td>\n",
       "    </tr>\n",
       "    <tr>\n",
       "      <th>6</th>\n",
       "      <td>6</td>\n",
       "      <td>S03_1.pkl</td>\n",
       "      <td>Clear cutting board</td>\n",
       "      <td>Clear</td>\n",
       "    </tr>\n",
       "    <tr>\n",
       "      <th>24</th>\n",
       "      <td>24</td>\n",
       "      <td>S08_1.pkl</td>\n",
       "      <td>Clear cutting board</td>\n",
       "      <td>Clear</td>\n",
       "    </tr>\n",
       "    <tr>\n",
       "      <th>6</th>\n",
       "      <td>6</td>\n",
       "      <td>S04_1.pkl</td>\n",
       "      <td>Slice a cucumber</td>\n",
       "      <td>Slice</td>\n",
       "    </tr>\n",
       "  </tbody>\n",
       "</table>\n",
       "</div>"
      ],
      "text/plain": [
       "    index       file                                        description  \\\n",
       "40     40  S08_1.pkl                      Spread jelly on a bread slice   \n",
       "10     10  S04_1.pkl  Get/replace items from refrigerator/cabinets/d...   \n",
       "6       6  S03_1.pkl                                Clear cutting board   \n",
       "24     24  S08_1.pkl                                Clear cutting board   \n",
       "6       6  S04_1.pkl                                   Slice a cucumber   \n",
       "\n",
       "     labels  \n",
       "40   Spread  \n",
       "10  Get/Put  \n",
       "6     Clear  \n",
       "24    Clear  \n",
       "6     Slice  "
      ]
     },
     "execution_count": 2,
     "metadata": {},
     "output_type": "execute_result"
    }
   ],
   "source": [
    "annotations.head()"
   ]
  },
  {
   "cell_type": "code",
   "execution_count": null,
   "metadata": {},
   "outputs": [],
   "source": []
  },
  {
   "cell_type": "code",
   "execution_count": 12,
   "metadata": {},
   "outputs": [
    {
     "name": "stdout",
     "output_type": "stream",
     "text": [
      "Left: (8, 10781)- <class 'numpy.ndarray'>, right: (8, 10881)\n"
     ]
    }
   ],
   "source": [
    "subjects = {}\n",
    "train = []\n",
    "for i in range(1, len(annotations)):\n",
    "    file = annotations.iloc[i].file\n",
    "    if file not in subjects:\n",
    "        subjects[file.split('.')[0]] = pd.read_pickle(BASE_DIR + file)\n",
    "    # Now we can add the readings to an array\n",
    "    index = annotations.iloc[i][0]\n",
    "    #print(f'Index is {index}')\n",
    "    sample = subjects[file.split('.')[0]].iloc[index]\n",
    "    # I want that the first axis is the channel\n",
    "    \n",
    "    left = sample.myo_left_readings.T\n",
    "    right = sample.myo_right_readings.T\n",
    "\n",
    "    print(f'Left: {left.shape}, right: {right.shape}')\n",
    "    data = np.hstack([left, right])\n",
    "    train.append((data, annotations.iloc[i].labels))\n",
    "    break"
   ]
  },
  {
   "cell_type": "code",
   "execution_count": 13,
   "metadata": {},
   "outputs": [
    {
     "data": {
      "text/plain": [
       "(8, 21662)"
      ]
     },
     "execution_count": 13,
     "metadata": {},
     "output_type": "execute_result"
    }
   ],
   "source": [
    "train[0][0].shape"
   ]
  },
  {
   "cell_type": "code",
   "execution_count": null,
   "metadata": {},
   "outputs": [],
   "source": []
  },
  {
   "cell_type": "code",
   "execution_count": 16,
   "metadata": {},
   "outputs": [],
   "source": [
    "dataframe = pd.read_pickle(BASE_DIR + 'S04_1.pkl')"
   ]
  },
  {
   "cell_type": "code",
   "execution_count": 17,
   "metadata": {},
   "outputs": [
    {
     "data": {
      "text/html": [
       "<div>\n",
       "<style scoped>\n",
       "    .dataframe tbody tr th:only-of-type {\n",
       "        vertical-align: middle;\n",
       "    }\n",
       "\n",
       "    .dataframe tbody tr th {\n",
       "        vertical-align: top;\n",
       "    }\n",
       "\n",
       "    .dataframe thead th {\n",
       "        text-align: right;\n",
       "    }\n",
       "</style>\n",
       "<table border=\"1\" class=\"dataframe\">\n",
       "  <thead>\n",
       "    <tr style=\"text-align: right;\">\n",
       "      <th></th>\n",
       "      <th>description</th>\n",
       "      <th>start</th>\n",
       "      <th>stop</th>\n",
       "      <th>myo_left_timestamps</th>\n",
       "      <th>myo_left_readings</th>\n",
       "      <th>myo_right_timestamps</th>\n",
       "      <th>myo_right_readings</th>\n",
       "    </tr>\n",
       "  </thead>\n",
       "  <tbody>\n",
       "    <tr>\n",
       "      <th>0</th>\n",
       "      <td>calibration</td>\n",
       "      <td>1.655239e+09</td>\n",
       "      <td>1.655240e+09</td>\n",
       "      <td>[]</td>\n",
       "      <td>[]</td>\n",
       "      <td>[]</td>\n",
       "      <td>[]</td>\n",
       "    </tr>\n",
       "    <tr>\n",
       "      <th>1</th>\n",
       "      <td>Get/replace items from refrigerator/cabinets/d...</td>\n",
       "      <td>1.655240e+09</td>\n",
       "      <td>1.655240e+09</td>\n",
       "      <td>[1655239974.420555, 1655239974.432055, 1655239...</td>\n",
       "      <td>[[8, 7, 2, 2, 6, 5, 14, 2], [-4, 23, 19, 6, 16...</td>\n",
       "      <td>[1655239974.4195595, 1655239974.427058, 165523...</td>\n",
       "      <td>[[-2, -3, 2, 3, -8, -1, 1, -2], [3, 7, 8, -1, ...</td>\n",
       "    </tr>\n",
       "    <tr>\n",
       "      <th>2</th>\n",
       "      <td>Peel a cucumber</td>\n",
       "      <td>1.655240e+09</td>\n",
       "      <td>1.655240e+09</td>\n",
       "      <td>[1655240064.7444172, 1655240064.748419, 165524...</td>\n",
       "      <td>[[78, 57, 43, 7, 18, 18, 4, 16], [3, 0, 48, 6,...</td>\n",
       "      <td>[1655240064.7504191, 1655240064.76542, 1655240...</td>\n",
       "      <td>[[-18, 14, 26, -3, -15, -12, -26, 4], [-20, -2...</td>\n",
       "    </tr>\n",
       "    <tr>\n",
       "      <th>3</th>\n",
       "      <td>Peel a cucumber</td>\n",
       "      <td>1.655240e+09</td>\n",
       "      <td>1.655240e+09</td>\n",
       "      <td>[1655240130.5200577, 1655240130.531557, 165524...</td>\n",
       "      <td>[[-30, 20, 18, 1, 12, 23, 21, -10], [23, -15, ...</td>\n",
       "      <td>[1655240130.5190585, 1655240130.526558, 165524...</td>\n",
       "      <td>[[1, -21, 22, 14, 13, -24, -1, -12], [-58, -83...</td>\n",
       "    </tr>\n",
       "    <tr>\n",
       "      <th>4</th>\n",
       "      <td>Peel a cucumber</td>\n",
       "      <td>1.655240e+09</td>\n",
       "      <td>1.655240e+09</td>\n",
       "      <td>[1655240178.033217, 1655240178.037216, 1655240...</td>\n",
       "      <td>[[4, -19, -26, -63, -31, -36, -3, -1], [-30, -...</td>\n",
       "      <td>[1655240178.0472164, 1655240178.062216, 165524...</td>\n",
       "      <td>[[-4, 57, 49, 32, 34, 7, 7, 7], [-13, -80, -29...</td>\n",
       "    </tr>\n",
       "  </tbody>\n",
       "</table>\n",
       "</div>"
      ],
      "text/plain": [
       "                                         description         start  \\\n",
       "0                                        calibration  1.655239e+09   \n",
       "1  Get/replace items from refrigerator/cabinets/d...  1.655240e+09   \n",
       "2                                    Peel a cucumber  1.655240e+09   \n",
       "3                                    Peel a cucumber  1.655240e+09   \n",
       "4                                    Peel a cucumber  1.655240e+09   \n",
       "\n",
       "           stop                                myo_left_timestamps  \\\n",
       "0  1.655240e+09                                                 []   \n",
       "1  1.655240e+09  [1655239974.420555, 1655239974.432055, 1655239...   \n",
       "2  1.655240e+09  [1655240064.7444172, 1655240064.748419, 165524...   \n",
       "3  1.655240e+09  [1655240130.5200577, 1655240130.531557, 165524...   \n",
       "4  1.655240e+09  [1655240178.033217, 1655240178.037216, 1655240...   \n",
       "\n",
       "                                   myo_left_readings  \\\n",
       "0                                                 []   \n",
       "1  [[8, 7, 2, 2, 6, 5, 14, 2], [-4, 23, 19, 6, 16...   \n",
       "2  [[78, 57, 43, 7, 18, 18, 4, 16], [3, 0, 48, 6,...   \n",
       "3  [[-30, 20, 18, 1, 12, 23, 21, -10], [23, -15, ...   \n",
       "4  [[4, -19, -26, -63, -31, -36, -3, -1], [-30, -...   \n",
       "\n",
       "                                myo_right_timestamps  \\\n",
       "0                                                 []   \n",
       "1  [1655239974.4195595, 1655239974.427058, 165523...   \n",
       "2  [1655240064.7504191, 1655240064.76542, 1655240...   \n",
       "3  [1655240130.5190585, 1655240130.526558, 165524...   \n",
       "4  [1655240178.0472164, 1655240178.062216, 165524...   \n",
       "\n",
       "                                  myo_right_readings  \n",
       "0                                                 []  \n",
       "1  [[-2, -3, 2, 3, -8, -1, 1, -2], [3, 7, 8, -1, ...  \n",
       "2  [[-18, 14, 26, -3, -15, -12, -26, 4], [-20, -2...  \n",
       "3  [[1, -21, 22, 14, 13, -24, -1, -12], [-58, -83...  \n",
       "4  [[-4, 57, 49, 32, 34, 7, 7, 7], [-13, -80, -29...  "
      ]
     },
     "execution_count": 17,
     "metadata": {},
     "output_type": "execute_result"
    }
   ],
   "source": [
    "dataframe.head()"
   ]
  },
  {
   "cell_type": "code",
   "execution_count": 24,
   "metadata": {},
   "outputs": [
    {
     "name": "stdout",
     "output_type": "stream",
     "text": [
      "Duration: 76.25338172912598\n",
      "Start = 1655239974.4190562\n",
      "Stop = 1655240050.672438\n"
     ]
    }
   ],
   "source": [
    "# temporal binning example\n",
    "\n",
    "sample = dataframe.iloc[1]\n",
    "\n",
    "start = sample.start\n",
    "stop = sample.stop\n",
    "\n",
    "print(f'Duration: {stop - start}')\n",
    "print(f'Start = {start}')\n",
    "print(f'Stop = {stop}')\n",
    "\n",
    "myo_left_timestamps = sample.myo_left_timestamps\n",
    "myo_right_timestamps = sample.myo_right_timestamps\n",
    "\n",
    "# There is a correspondance between timestamps and readings, but not with left and right\n",
    "\n",
    "myo_left_readings = sample.myo_left_readings\n",
    "myo_right_readings = sample.myo_right_readings\n",
    "\n",
    "# Instead of workign at time level, we can extract spectrograms"
   ]
  }
 ],
 "metadata": {
  "kernelspec": {
   "display_name": "egovision",
   "language": "python",
   "name": "python3"
  },
  "language_info": {
   "codemirror_mode": {
    "name": "ipython",
    "version": 3
   },
   "file_extension": ".py",
   "mimetype": "text/x-python",
   "name": "python",
   "nbconvert_exporter": "python",
   "pygments_lexer": "ipython3",
   "version": "3.7.13"
  },
  "orig_nbformat": 4,
  "vscode": {
   "interpreter": {
    "hash": "bdcddd27d15c49758eb1a3dfaa272cbe2f899a76f9f40c400cd885143f8f2509"
   }
  }
 },
 "nbformat": 4,
 "nbformat_minor": 2
}
