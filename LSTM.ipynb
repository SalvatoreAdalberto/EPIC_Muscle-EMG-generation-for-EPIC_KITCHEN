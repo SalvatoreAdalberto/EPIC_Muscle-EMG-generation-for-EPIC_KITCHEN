{
 "cells": [
  {
   "attachments": {},
   "cell_type": "markdown",
   "metadata": {},
   "source": [
    "# LSTM practicing\n"
   ]
  },
  {
   "attachments": {},
   "cell_type": "markdown",
   "metadata": {},
   "source": [
    "### Import code\n"
   ]
  },
  {
   "cell_type": "code",
   "execution_count": 11,
   "metadata": {},
   "outputs": [
    {
     "data": {
      "text/plain": [
       "<torch._C.Generator at 0x7f28aff2c8f0>"
      ]
     },
     "execution_count": 11,
     "metadata": {},
     "output_type": "execute_result"
    }
   ],
   "source": [
    "import torch\n",
    "import torch.nn as nn\n",
    "import torch.nn.functional as F\n",
    "import torch.optim as optim\n",
    "\n",
    "torch.manual_seed(42)"
   ]
  },
  {
   "attachments": {},
   "cell_type": "markdown",
   "metadata": {},
   "source": [
    "#### Run the LSTM"
   ]
  },
  {
   "cell_type": "code",
   "execution_count": 16,
   "metadata": {},
   "outputs": [
    {
     "name": "stdout",
     "output_type": "stream",
     "text": [
      "current element: tensor([[[-0.6366, -0.2712, -0.7390]]]), shape: torch.Size([1, 1, 3])\n",
      "current element: tensor([[[ 1.6475, -0.5047,  0.7850]]]), shape: torch.Size([1, 1, 3])\n",
      "current element: tensor([[[ 0.3700,  0.0755, -1.5731]]]), shape: torch.Size([1, 1, 3])\n",
      "current element: tensor([[[0.2201, 0.2351, 1.0044]]]), shape: torch.Size([1, 1, 3])\n",
      "current element: tensor([[[ 0.4352, -0.0459,  0.7410]]]), shape: torch.Size([1, 1, 3])\n",
      "Out: tensor([[[-0.0710,  0.0161, -0.1482]]], grad_fn=<StackBackward0>)\n"
     ]
    }
   ],
   "source": [
    "lstm = nn.LSTM(3, 3)  # Input dim is 3(features dimension), output dim is (num_classes)\n",
    "inputs = [torch.randn(1, 3) for _ in range(5)]  # make a sequence of length 5\n",
    "\n",
    "# initialize the hidden state.\n",
    "hidden = (torch.randn(1, 1, 3),\n",
    "          torch.randn(1, 1, 3))\n",
    "\n",
    "for i in inputs:\n",
    "    # Step through the sequence one element at a time.\n",
    "    # after each step, hidden contains the hidden state.\n",
    "    print(f\"current element: {i.view(1, 1, -1)}, shape: {i.view(1, 1, -1).size()}\")\n",
    "    out, hidden = lstm(i.view(1, 1, -1), hidden)\n",
    "\n",
    "print(f\"Out: {out}\")"
   ]
  },
  {
   "cell_type": "code",
   "execution_count": 17,
   "metadata": {},
   "outputs": [],
   "source": [
    "class ActionLSTM(nn.Module):\n",
    "    def __init__(self, num_classes, feature_dim=1024) -> None:\n",
    "        super(ActionLSTM, self).__init__()\n",
    "\n",
    "        self.num_classes = num_classes\n",
    "        self.feature_dim = feature_dim\n",
    "\n",
    "        self.lstm = nn.LSTM(self.feature_dim, self.num_classes)\n",
    "\n",
    "    def forward(self, clips):\n",
    "        lstm_all_out, hidden_state = self.lstm(clips.view(len(clips), 1, -1))\n",
    "        return hidden_state\n"
   ]
  }
 ],
 "metadata": {
  "kernelspec": {
   "display_name": "egovision",
   "language": "python",
   "name": "python3"
  },
  "language_info": {
   "codemirror_mode": {
    "name": "ipython",
    "version": 3
   },
   "file_extension": ".py",
   "mimetype": "text/x-python",
   "name": "python",
   "nbconvert_exporter": "python",
   "pygments_lexer": "ipython3",
   "version": "3.7.13"
  },
  "orig_nbformat": 4,
  "vscode": {
   "interpreter": {
    "hash": "bdcddd27d15c49758eb1a3dfaa272cbe2f899a76f9f40c400cd885143f8f2509"
   }
  }
 },
 "nbformat": 4,
 "nbformat_minor": 2
}
