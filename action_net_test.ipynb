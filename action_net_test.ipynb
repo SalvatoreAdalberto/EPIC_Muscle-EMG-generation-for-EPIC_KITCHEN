{
 "cells": [
  {
   "attachments": {},
   "cell_type": "markdown",
   "metadata": {},
   "source": [
    "## ActionNet test notebook"
   ]
  },
  {
   "cell_type": "code",
   "execution_count": 9,
   "metadata": {},
   "outputs": [],
   "source": [
    "from utils.loaders import EpicKitchensDataset, ActionNetDataset\n",
    "from omegaconf import OmegaConf\n",
    "import random\n"
   ]
  },
  {
   "cell_type": "code",
   "execution_count": 10,
   "metadata": {},
   "outputs": [],
   "source": [
    "import matplotlib.pyplot as plt"
   ]
  },
  {
   "cell_type": "code",
   "execution_count": 11,
   "metadata": {},
   "outputs": [
    {
     "name": "stderr",
     "output_type": "stream",
     "text": [
      "2023-01-18 12:57:24 LOG INFO Dataloader for D1-test with 435 samples generated\n"
     ]
    }
   ],
   "source": [
    "# Later we will move this to a yaml file\n",
    "dataset_conf = OmegaConf.create(\n",
    "    {'annotations_path': 'train_val', 'shift': 'D1-D1', 'workers': 4, 'stride': 2, 'resolution': 224, 'RGB': {'data_path': '../action_net/frames/ActionNet_S04/', 'tmpl': 'img_{:010d}.jpg', 'features_name': '5c_5f'}, 'Event': {'rgb4e': 6}, 'stride': 1}\n",
    ")\n",
    "\n",
    "dt = ActionNetDataset(\"ActionNet\", ['EMG'], 'test', dataset_conf, {'EMG': 16}, 5, {'EMG': True}, load_feat=False, additional_info=False)\n",
    "\n"
   ]
  },
  {
   "cell_type": "code",
   "execution_count": 7,
   "metadata": {},
   "outputs": [],
   "source": [
    "import torch\n",
    "x = torch.rand((3, 5, 8))"
   ]
  },
  {
   "cell_type": "code",
   "execution_count": 9,
   "metadata": {},
   "outputs": [
    {
     "name": "stdout",
     "output_type": "stream",
     "text": [
      "torch.Size([])\n",
      "torch.Size([])\n",
      "torch.Size([])\n"
     ]
    },
    {
     "data": {
      "text/plain": [
       "torch.Size([3, 5])"
      ]
     },
     "execution_count": 9,
     "metadata": {},
     "output_type": "execute_result"
    }
   ],
   "source": [
    "for i in range(3):\n",
    "    c = torch.mean(x[i], dim=0)\n",
    "    print(c.size())\n",
    "    x[i] = c\n",
    "    \n",
    "x.size()\n"
   ]
  },
  {
   "cell_type": "code",
   "execution_count": 18,
   "metadata": {},
   "outputs": [
    {
     "data": {
      "text/plain": [
       "(5, 1024)"
      ]
     },
     "execution_count": 18,
     "metadata": {},
     "output_type": "execute_result"
    }
   ],
   "source": [
    "sample, label = dt[0]\n",
    "\n",
    "sample['RGB'].shape"
   ]
  },
  {
   "cell_type": "code",
   "execution_count": 13,
   "metadata": {},
   "outputs": [],
   "source": [
    "def show_a_frame(img, title):\n",
    "    fig = plt.imshow(img)\n",
    "    plt.title(title)\n",
    "    fig.set_cmap('hot')\n",
    "    fig.axes.get_xaxis().set_visible(False)\n",
    "    fig.axes.get_yaxis().set_visible(False)\n",
    "\n",
    "def show_emg_data(emg, title):\n",
    "    fig, axs = plt.subplots(len(emg), 1, figsize=(16, 8))\n",
    "\n",
    "    axs[0].set_title(title or \"EMG signal\")\n",
    "\n",
    "    for i, sig in enumerate(emg):\n",
    "        im = axs[i].plot(range(len(sig)), sig)\n",
    "        axs[i].get_xaxis().set_visible(False)\n",
    "        axs[i].get_yaxis().set_visible(False)\n",
    "\n",
    "    axs[i].set_xlabel(\"time\")\n",
    "    axs[i].get_xaxis().set_visible(True)\n",
    "    plt.show(block=False)"
   ]
  },
  {
   "cell_type": "code",
   "execution_count": 14,
   "metadata": {},
   "outputs": [
    {
     "ename": "NameError",
     "evalue": "name 'action_net' is not defined",
     "output_type": "error",
     "traceback": [
      "\u001b[0;31m---------------------------------------------------------------------------\u001b[0m",
      "\u001b[0;31mNameError\u001b[0m                                 Traceback (most recent call last)",
      "\u001b[0;32m/tmp/ipykernel_3816/1171879936.py\u001b[0m in \u001b[0;36m<module>\u001b[0;34m\u001b[0m\n\u001b[0;32m----> 1\u001b[0;31m \u001b[0msample_img\u001b[0m\u001b[0;34m,\u001b[0m \u001b[0mlabel\u001b[0m\u001b[0;34m,\u001b[0m \u001b[0mvideo_name\u001b[0m\u001b[0;34m,\u001b[0m \u001b[0muid\u001b[0m \u001b[0;34m=\u001b[0m \u001b[0maction_net\u001b[0m\u001b[0;34m[\u001b[0m\u001b[0mrandom\u001b[0m\u001b[0;34m.\u001b[0m\u001b[0mrandint\u001b[0m\u001b[0;34m(\u001b[0m\u001b[0;36m0\u001b[0m\u001b[0;34m,\u001b[0m \u001b[0mlen\u001b[0m\u001b[0;34m(\u001b[0m\u001b[0maction_net\u001b[0m\u001b[0;34m)\u001b[0m\u001b[0;34m)\u001b[0m\u001b[0;34m]\u001b[0m\u001b[0;34m\u001b[0m\u001b[0;34m\u001b[0m\u001b[0m\n\u001b[0m\u001b[1;32m      2\u001b[0m \u001b[0;34m\u001b[0m\u001b[0m\n\u001b[1;32m      3\u001b[0m \u001b[0mshow_a_frame\u001b[0m\u001b[0;34m(\u001b[0m\u001b[0msample_img\u001b[0m\u001b[0;34m[\u001b[0m\u001b[0;34m'RGB'\u001b[0m\u001b[0;34m]\u001b[0m\u001b[0;34m[\u001b[0m\u001b[0;36m0\u001b[0m\u001b[0;34m]\u001b[0m\u001b[0;34m,\u001b[0m \u001b[0;34mf\"{video_name}-{uid}\"\u001b[0m\u001b[0;34m)\u001b[0m\u001b[0;34m\u001b[0m\u001b[0;34m\u001b[0m\u001b[0m\n",
      "\u001b[0;31mNameError\u001b[0m: name 'action_net' is not defined"
     ]
    }
   ],
   "source": [
    "sample_img, label, video_name, uid = action_net[random.randint(0, len(action_net))]\n",
    "\n",
    "show_a_frame(sample_img['RGB'][0], f\"{video_name}-{uid}\")"
   ]
  },
  {
   "cell_type": "code",
   "execution_count": null,
   "metadata": {},
   "outputs": [],
   "source": [
    "show_emg_data(sample_img['EMG'], f\"{video_name}-{uid}\")"
   ]
  }
 ],
 "metadata": {
  "kernelspec": {
   "display_name": "Python 3",
   "language": "python",
   "name": "python3"
  },
  "language_info": {
   "codemirror_mode": {
    "name": "ipython",
    "version": 3
   },
   "file_extension": ".py",
   "mimetype": "text/x-python",
   "name": "python",
   "nbconvert_exporter": "python",
   "pygments_lexer": "ipython3",
   "version": "3.10.9 (main, Dec 15 2022, 10:44:50) [Clang 14.0.0 (clang-1400.0.29.202)]"
  },
  "orig_nbformat": 4,
  "vscode": {
   "interpreter": {
    "hash": "b0fa6594d8f4cbf19f97940f81e996739fb7646882a419484c72d19e05852a7e"
   }
  }
 },
 "nbformat": 4,
 "nbformat_minor": 2
}
